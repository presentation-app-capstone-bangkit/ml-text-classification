{
 "cells": [
  {
   "cell_type": "code",
   "execution_count": 2,
   "metadata": {},
   "outputs": [],
   "source": [
    "import pandas as pd\n",
    "import re\n",
    "import seaborn as sns\n",
    "import matplotlib.pyplot as plt\n",
    "import random"
   ]
  },
  {
   "cell_type": "code",
   "execution_count": 3,
   "metadata": {},
   "outputs": [
    {
     "name": "stdout",
     "output_type": "stream",
     "text": [
      "<class 'pandas.core.frame.DataFrame'>\n",
      "RangeIndex: 4005 entries, 0 to 4004\n",
      "Data columns (total 19 columns):\n",
      " #   Column          Non-Null Count  Dtype  \n",
      "---  ------          --------------  -----  \n",
      " 0   talk_id         4005 non-null   int64  \n",
      " 1   title           4005 non-null   object \n",
      " 2   speaker_1       4005 non-null   object \n",
      " 3   all_speakers    4001 non-null   object \n",
      " 4   occupations     3483 non-null   object \n",
      " 5   about_speakers  3502 non-null   object \n",
      " 6   views           4005 non-null   int64  \n",
      " 7   recorded_date   4004 non-null   object \n",
      " 8   published_date  4005 non-null   object \n",
      " 9   event           4005 non-null   object \n",
      " 10  native_lang     4005 non-null   object \n",
      " 11  available_lang  4005 non-null   object \n",
      " 12  comments        3350 non-null   float64\n",
      " 13  duration        4005 non-null   int64  \n",
      " 14  topics          4005 non-null   object \n",
      " 15  related_talks   4005 non-null   object \n",
      " 16  url             4005 non-null   object \n",
      " 17  description     4005 non-null   object \n",
      " 18  transcript      4005 non-null   object \n",
      "dtypes: float64(1), int64(3), object(15)\n",
      "memory usage: 594.6+ KB\n"
     ]
    }
   ],
   "source": [
    "df = pd.read_csv('./dataset/ted_talks_en.csv')\n",
    "df.info()"
   ]
  },
  {
   "cell_type": "code",
   "execution_count": 4,
   "metadata": {},
   "outputs": [],
   "source": [
    "df = df[['transcript']]"
   ]
  },
  {
   "cell_type": "code",
   "execution_count": 5,
   "metadata": {},
   "outputs": [
    {
     "data": {
      "text/html": [
       "<div>\n",
       "<style scoped>\n",
       "    .dataframe tbody tr th:only-of-type {\n",
       "        vertical-align: middle;\n",
       "    }\n",
       "\n",
       "    .dataframe tbody tr th {\n",
       "        vertical-align: top;\n",
       "    }\n",
       "\n",
       "    .dataframe thead th {\n",
       "        text-align: right;\n",
       "    }\n",
       "</style>\n",
       "<table border=\"1\" class=\"dataframe\">\n",
       "  <thead>\n",
       "    <tr style=\"text-align: right;\">\n",
       "      <th></th>\n",
       "      <th>transcript</th>\n",
       "    </tr>\n",
       "  </thead>\n",
       "  <tbody>\n",
       "    <tr>\n",
       "      <th>0</th>\n",
       "      <td>Thank you so much, Chris. And it's truly a gre...</td>\n",
       "    </tr>\n",
       "    <tr>\n",
       "      <th>1</th>\n",
       "      <td>About 10 years ago, I took on the task to teac...</td>\n",
       "    </tr>\n",
       "    <tr>\n",
       "      <th>2</th>\n",
       "      <td>(Music: \"The Sound of Silence,\" Simon &amp; Garfun...</td>\n",
       "    </tr>\n",
       "    <tr>\n",
       "      <th>3</th>\n",
       "      <td>If you're here today — and I'm very happy that...</td>\n",
       "    </tr>\n",
       "    <tr>\n",
       "      <th>4</th>\n",
       "      <td>Good morning. How are you? (Audience) Good. It...</td>\n",
       "    </tr>\n",
       "  </tbody>\n",
       "</table>\n",
       "</div>"
      ],
      "text/plain": [
       "                                          transcript\n",
       "0  Thank you so much, Chris. And it's truly a gre...\n",
       "1  About 10 years ago, I took on the task to teac...\n",
       "2  (Music: \"The Sound of Silence,\" Simon & Garfun...\n",
       "3  If you're here today — and I'm very happy that...\n",
       "4  Good morning. How are you? (Audience) Good. It..."
      ]
     },
     "execution_count": 5,
     "metadata": {},
     "output_type": "execute_result"
    }
   ],
   "source": [
    "df.head()"
   ]
  },
  {
   "cell_type": "code",
   "execution_count": 6,
   "metadata": {},
   "outputs": [],
   "source": [
    "def split_transcript_random(transcript, min_words=90, max_words=250):\n",
    "    words = transcript.split()  # Pisahkan teks menjadi kata-kata\n",
    "    chunks = []\n",
    "    i = 0\n",
    "    while i < len(words):\n",
    "        # Tentukan ukuran chunk secara acak\n",
    "        chunk_size = random.randint(min_words, max_words)\n",
    "        # Ambil chunk kata\n",
    "        chunk = words[i:i + chunk_size]\n",
    "        # Gabungkan kembali kata-kata menjadi teks\n",
    "        chunks.append(' '.join(chunk))\n",
    "        # Pindah ke indeks berikutnya\n",
    "        i += chunk_size\n",
    "    return chunks"
   ]
  },
  {
   "cell_type": "code",
   "execution_count": 7,
   "metadata": {},
   "outputs": [],
   "source": [
    "split_rows = []\n",
    "for idx, row in df.iterrows():\n",
    "    transcript = row['transcript']\n",
    "    if pd.notnull(transcript):  # Cek jika transkrip tidak kosong\n",
    "        chunks = split_transcript_random(transcript, min_words=90, max_words=250)  # Potong teks dengan panjang acak\n",
    "        for chunk in chunks:\n",
    "            split_rows.append({'original_index': idx, 'transcript': chunk})  # Simpan potongan\n",
    "\n",
    "# Buat DataFrame baru\n",
    "split_df = pd.DataFrame(split_rows)"
   ]
  },
  {
   "cell_type": "code",
   "execution_count": 8,
   "metadata": {},
   "outputs": [
    {
     "name": "stdout",
     "output_type": "stream",
     "text": [
      "<class 'pandas.core.frame.DataFrame'>\n",
      "RangeIndex: 44516 entries, 0 to 44515\n",
      "Data columns (total 2 columns):\n",
      " #   Column          Non-Null Count  Dtype \n",
      "---  ------          --------------  ----- \n",
      " 0   original_index  44516 non-null  int64 \n",
      " 1   transcript      44516 non-null  object\n",
      "dtypes: int64(1), object(1)\n",
      "memory usage: 695.7+ KB\n",
      "None\n"
     ]
    }
   ],
   "source": [
    "print(split_df.info())"
   ]
  },
  {
   "cell_type": "code",
   "execution_count": 9,
   "metadata": {},
   "outputs": [
    {
     "name": "stdout",
     "output_type": "stream",
     "text": [
      "   original_index                                         transcript\n",
      "0               0  Thank you so much, Chris. And it's truly a gre...\n",
      "1               0  from our home in Nashville to a little farm we...\n",
      "2               0  to us, and she lowered her voice so much, I ha...\n",
      "3               0  refueling. I woke up, they opened the door, I ...\n",
      "4               0  President Al Gore announced in Nigeria yesterd...\n"
     ]
    }
   ],
   "source": [
    "print(split_df.head())"
   ]
  },
  {
   "cell_type": "code",
   "execution_count": 10,
   "metadata": {},
   "outputs": [
    {
     "data": {
      "text/plain": [
       "(44516, 2)"
      ]
     },
     "execution_count": 10,
     "metadata": {},
     "output_type": "execute_result"
    }
   ],
   "source": [
    "split_df.shape"
   ]
  },
  {
   "cell_type": "code",
   "execution_count": 11,
   "metadata": {},
   "outputs": [],
   "source": [
    "split_df = split_df.drop_duplicates(keep='first')"
   ]
  },
  {
   "cell_type": "code",
   "execution_count": 12,
   "metadata": {},
   "outputs": [],
   "source": [
    "split_df = split_df.dropna()"
   ]
  },
  {
   "cell_type": "code",
   "execution_count": 13,
   "metadata": {},
   "outputs": [
    {
     "data": {
      "text/plain": [
       "(44516, 2)"
      ]
     },
     "execution_count": 13,
     "metadata": {},
     "output_type": "execute_result"
    }
   ],
   "source": [
    "split_df.shape"
   ]
  },
  {
   "cell_type": "code",
   "execution_count": 14,
   "metadata": {},
   "outputs": [],
   "source": [
    "def clean_text(text):\n",
    "    text = re.sub(r'\\([^)]*\\)', '', text)\n",
    "    text = re.sub(r'[^A-Za-z0-9]+', ' ', text) # Hapus karakter special\n",
    "    text = re.sub(r'\\s+', ' ', text).strip() # Hapus spasi berlebih\n",
    "    # lower case text\n",
    "    text = text.lower()\n",
    "    return text\n",
    "\n",
    "split_df['transcript'] = split_df['transcript'].apply(clean_text)"
   ]
  },
  {
   "cell_type": "code",
   "execution_count": 15,
   "metadata": {},
   "outputs": [
    {
     "data": {
      "text/html": [
       "<div>\n",
       "<style scoped>\n",
       "    .dataframe tbody tr th:only-of-type {\n",
       "        vertical-align: middle;\n",
       "    }\n",
       "\n",
       "    .dataframe tbody tr th {\n",
       "        vertical-align: top;\n",
       "    }\n",
       "\n",
       "    .dataframe thead th {\n",
       "        text-align: right;\n",
       "    }\n",
       "</style>\n",
       "<table border=\"1\" class=\"dataframe\">\n",
       "  <thead>\n",
       "    <tr style=\"text-align: right;\">\n",
       "      <th></th>\n",
       "      <th>original_index</th>\n",
       "      <th>transcript</th>\n",
       "    </tr>\n",
       "  </thead>\n",
       "  <tbody>\n",
       "    <tr>\n",
       "      <th>0</th>\n",
       "      <td>0</td>\n",
       "      <td>thank you so much chris and it s truly a great...</td>\n",
       "    </tr>\n",
       "    <tr>\n",
       "      <th>1</th>\n",
       "      <td>0</td>\n",
       "      <td>from our home in nashville to a little farm we...</td>\n",
       "    </tr>\n",
       "    <tr>\n",
       "      <th>2</th>\n",
       "      <td>0</td>\n",
       "      <td>to us and she lowered her voice so much i had ...</td>\n",
       "    </tr>\n",
       "    <tr>\n",
       "      <th>3</th>\n",
       "      <td>0</td>\n",
       "      <td>refueling i woke up they opened the door i wen...</td>\n",
       "    </tr>\n",
       "    <tr>\n",
       "      <th>4</th>\n",
       "      <td>0</td>\n",
       "      <td>president al gore announced in nigeria yesterd...</td>\n",
       "    </tr>\n",
       "    <tr>\n",
       "      <th>...</th>\n",
       "      <td>...</td>\n",
       "      <td>...</td>\n",
       "    </tr>\n",
       "    <tr>\n",
       "      <th>44511</th>\n",
       "      <td>4004</td>\n",
       "      <td>can you guess what you re looking at is it a f...</td>\n",
       "    </tr>\n",
       "    <tr>\n",
       "      <th>44512</th>\n",
       "      <td>4004</td>\n",
       "      <td>draw water in and out over an internal lung li...</td>\n",
       "    </tr>\n",
       "    <tr>\n",
       "      <th>44513</th>\n",
       "      <td>4004</td>\n",
       "      <td>fibrils to slide them together stiffening the ...</td>\n",
       "    </tr>\n",
       "    <tr>\n",
       "      <th>44514</th>\n",
       "      <td>4004</td>\n",
       "      <td>the seabed sea cucumbers are found everywhere ...</td>\n",
       "    </tr>\n",
       "    <tr>\n",
       "      <th>44515</th>\n",
       "      <td>4004</td>\n",
       "      <td>at one point or another been excreted by a pic...</td>\n",
       "    </tr>\n",
       "  </tbody>\n",
       "</table>\n",
       "<p>44516 rows × 2 columns</p>\n",
       "</div>"
      ],
      "text/plain": [
       "       original_index                                         transcript\n",
       "0                   0  thank you so much chris and it s truly a great...\n",
       "1                   0  from our home in nashville to a little farm we...\n",
       "2                   0  to us and she lowered her voice so much i had ...\n",
       "3                   0  refueling i woke up they opened the door i wen...\n",
       "4                   0  president al gore announced in nigeria yesterd...\n",
       "...               ...                                                ...\n",
       "44511            4004  can you guess what you re looking at is it a f...\n",
       "44512            4004  draw water in and out over an internal lung li...\n",
       "44513            4004  fibrils to slide them together stiffening the ...\n",
       "44514            4004  the seabed sea cucumbers are found everywhere ...\n",
       "44515            4004  at one point or another been excreted by a pic...\n",
       "\n",
       "[44516 rows x 2 columns]"
      ]
     },
     "execution_count": 15,
     "metadata": {},
     "output_type": "execute_result"
    }
   ],
   "source": [
    "split_df"
   ]
  },
  {
   "cell_type": "code",
   "execution_count": 16,
   "metadata": {},
   "outputs": [
    {
     "name": "stdout",
     "output_type": "stream",
     "text": [
      "                                          transcript  \\\n",
      "0  thank you so much chris and it s truly a great...   \n",
      "1  from our home in nashville to a little farm we...   \n",
      "2  to us and she lowered her voice so much i had ...   \n",
      "3  refueling i woke up they opened the door i wen...   \n",
      "4  president al gore announced in nigeria yesterd...   \n",
      "\n",
      "                             transcript_with_fillers  \n",
      "0  thank you so much chris and it s truly a great...  \n",
      "1  from our home in nashville to a little farm we...  \n",
      "2  to us and she lowered her voice so much i had ...  \n",
      "3  uh refueling i woke up they opened the door i ...  \n",
      "4  president al gore announced in nigeria yesterd...  \n"
     ]
    }
   ],
   "source": [
    "filler_words_list = ['um', 'uh']\n",
    "def insert_fillers(text, max_fillers=12):\n",
    "    words = text.split()  # Pisahkan teks menjadi kata-kata\n",
    "    num_fillers = random.randint(0, max_fillers)  # Tentukan jumlah filler secara acak\n",
    "    \n",
    "    for _ in range(num_fillers):\n",
    "        if len(words) > 1:  # Pastikan ada cukup kata untuk menyisipkan filler\n",
    "            insert_pos = random.randint(0, len(words) - 1)  # Pilih posisi acak\n",
    "            filler = random.choice(filler_words_list)  # Pilih filler secara acak\n",
    "            words.insert(insert_pos, filler)  # Sisipkan filler\n",
    "    \n",
    "    return ' '.join(words)  # Gabungkan kembali teks\n",
    "\n",
    "# Terapkan fungsi ke setiap baris\n",
    "split_df['transcript_with_fillers'] = split_df['transcript'].apply(insert_fillers)\n",
    "\n",
    "# Tampilkan hasil\n",
    "print(split_df[['transcript', 'transcript_with_fillers']].head())\n"
   ]
  },
  {
   "cell_type": "code",
   "execution_count": 17,
   "metadata": {},
   "outputs": [
    {
     "name": "stdout",
     "output_type": "stream",
     "text": [
      "                                          transcript  filler_words\n",
      "0  Thank you so much, Chris. And it's truly a gre...             0\n",
      "1  About 10 years ago, I took on the task to teac...             0\n",
      "2  (Music: \"The Sound of Silence,\" Simon & Garfun...             2\n",
      "3  If you're here today — and I'm very happy that...             0\n",
      "4  Good morning. How are you? (Audience) Good. It...             0\n"
     ]
    }
   ],
   "source": [
    "filler_words_list = ['um', 'uh']\n",
    "df['filler_words'] = df['transcript'].apply(\n",
    "    lambda text: len(re.findall(r'\\b(?:%s)\\b' % '|'.join(filler_words_list), str(text), re.IGNORECASE))\n",
    ")\n",
    "\n",
    "# Tampilkan beberapa baris pertama\n",
    "print(df.head())"
   ]
  },
  {
   "cell_type": "code",
   "execution_count": 18,
   "metadata": {},
   "outputs": [
    {
     "name": "stdout",
     "output_type": "stream",
     "text": [
      "   original_index                                         transcript  \\\n",
      "0               0  thank you so much chris and it s truly a great...   \n",
      "1               0  from our home in nashville to a little farm we...   \n",
      "2               0  to us and she lowered her voice so much i had ...   \n",
      "3               0  refueling i woke up they opened the door i wen...   \n",
      "4               0  president al gore announced in nigeria yesterd...   \n",
      "\n",
      "                             transcript_with_fillers  filler_words_count  \\\n",
      "0  thank you so much chris and it s truly a great...                   6   \n",
      "1  from our home in nashville to a little farm we...                   6   \n",
      "2  to us and she lowered her voice so much i had ...                   0   \n",
      "3  uh refueling i woke up they opened the door i ...                  10   \n",
      "4  president al gore announced in nigeria yesterd...                   3   \n",
      "\n",
      "   meaningless_connectors_count  connector_ratio  word_count  \n",
      "0                             7         0.050000         140  \n",
      "1                             7         0.045752         153  \n",
      "2                             8         0.043716         183  \n",
      "3                             9         0.060811         148  \n",
      "4                            10         0.044053         227  \n"
     ]
    }
   ],
   "source": [
    "meaningless_connectors = [\"so\", \"like\", \"and\", \"but\", \"because\"]\n",
    "\n",
    "# Fungsi untuk menghitung fitur\n",
    "def calculate_features(text):\n",
    "    # Filler words count\n",
    "    filler_count = sum(1 for word in text.split() if word in filler_words_list)\n",
    "    \n",
    "    # Total words in the text\n",
    "    total_words = len(text.split())\n",
    "    \n",
    "    # Meaningless connectors count\n",
    "    meaningless_connectors_count = sum(1 for word in text.split() if word in meaningless_connectors)\n",
    "    \n",
    "    # Connector ratio\n",
    "    connector_ratio = meaningless_connectors_count / total_words if total_words > 0 else 0\n",
    "    \n",
    "    # Return calculated features\n",
    "    return {\n",
    "        \"filler_words_count\": filler_count,\n",
    "        \"meaningless_connectors_count\": meaningless_connectors_count,\n",
    "        \"connector_ratio\": connector_ratio,\n",
    "        \"word_count\": total_words\n",
    "    }\n",
    "\n",
    "# Terapkan ke kolom transcript_with_fillers\n",
    "features = split_df['transcript_with_fillers'].apply(calculate_features)\n",
    "features_df = pd.DataFrame(list(features))  # Ubah hasil menjadi DataFrame\n",
    "\n",
    "# Gabungkan ke DataFrame utama\n",
    "split_df = pd.concat([split_df, features_df], axis=1)\n",
    "\n",
    "# Tampilkan hasil\n",
    "print(split_df.head())\n"
   ]
  },
  {
   "cell_type": "code",
   "execution_count": 19,
   "metadata": {},
   "outputs": [
    {
     "name": "stdout",
     "output_type": "stream",
     "text": [
      "   word_count  speak_duration\n",
      "0         140              63\n",
      "1         153              67\n",
      "2         183              90\n",
      "3         148              82\n",
      "4         227              90\n"
     ]
    }
   ],
   "source": [
    "# Tambahkan penanganan NaN dalam fungsi\n",
    "def generate_speak_duration(word_count, stutter_prob=0.2):\n",
    "    # Jika word_count adalah NaN atau 0, kembalikan durasi minimum\n",
    "    if pd.isna(word_count) or word_count == 0:\n",
    "        return 30  # Durasi minimum\n",
    "    \n",
    "    # Kecepatan bicara rata-rata (kata per menit)\n",
    "    avg_speech_speed = random.randint(130, 150)  # Random dalam range\n",
    "    \n",
    "    # Estimasi durasi (dalam detik) berdasarkan jumlah kata\n",
    "    estimated_duration = (word_count / avg_speech_speed) * 60\n",
    "    \n",
    "    # Tambahkan probabilitas untuk stuttering\n",
    "    if random.random() < stutter_prob:\n",
    "        # Jika stuttering, tambahkan durasi acak\n",
    "        stutter_duration = random.uniform(estimated_duration + 10, estimated_duration + 30)\n",
    "        return int(min(max(30, stutter_duration), 90))  # Batas 30–90 detik, dibulatkan ke bilangan bulat\n",
    "    \n",
    "    # Durasi normal dengan noise kecil\n",
    "    normal_duration = random.uniform(estimated_duration - 5, estimated_duration + 5)\n",
    "    return int(min(max(30, normal_duration), 90))  # Batas 30–90 detik, dibulatkan ke bilangan bulat\n",
    "\n",
    "# Periksa dan isi nilai NaN di kolom word_count\n",
    "split_df['word_count'] = split_df['word_count'].fillna(0)\n",
    "\n",
    "# Terapkan fungsi dengan pembulatan\n",
    "split_df['speak_duration'] = split_df['word_count'].apply(generate_speak_duration)\n",
    "\n",
    "# Tampilkan hasil\n",
    "print(split_df[['word_count', 'speak_duration']].head())\n"
   ]
  },
  {
   "cell_type": "code",
   "execution_count": 21,
   "metadata": {},
   "outputs": [
    {
     "name": "stdout",
     "output_type": "stream",
     "text": [
      "                             transcript_with_fillers  filler_words_count  \\\n",
      "0  thank you so much chris and it s truly a great...                   6   \n",
      "1  from our home in nashville to a little farm we...                   6   \n",
      "2  to us and she lowered her voice so much i had ...                   0   \n",
      "3  uh refueling i woke up they opened the door i ...                  10   \n",
      "4  president al gore announced in nigeria yesterd...                   3   \n",
      "\n",
      "   meaningless_connectors_count  word_count  speak_duration  confidence  \n",
      "0                             7         140              63           1  \n",
      "1                             7         153              67           1  \n",
      "2                             8         183              90           1  \n",
      "3                             9         148              82           0  \n",
      "4                            10         227              90           1  \n"
     ]
    }
   ],
   "source": [
    "def calculate_confidence(row):\n",
    "    # Toleransi berbasis durasi atau jumlah kata\n",
    "    filler_words_tolerance = 4 + 0.02 * row['word_count']  # Toleransi filler bertambah seiring panjang kata\n",
    "    meaningless_tolerance = 7 + 0.03 * row['word_count']  # Toleransi meaningless bertambah\n",
    "    \n",
    "    # Kecepatan bicara\n",
    "    avg_words_per_minute = row['word_count'] / (row['speak_duration'] / 60) if row['speak_duration'] > 0 else 0\n",
    "    \n",
    "    # Aturan untuk confidence = 1\n",
    "    if (\n",
    "        row['filler_words_count'] <= filler_words_tolerance and\n",
    "        row['meaningless_connectors_count'] <= meaningless_tolerance and\n",
    "        100 <= avg_words_per_minute <= 170 and  # Kecepatan bicara wajar\n",
    "        50 <= row['word_count'] <= 300 and      # Jumlah kata wajar\n",
    "        30 <= row['speak_duration'] <= 90       # Lama bicara dalam batas\n",
    "    ):\n",
    "        return 1  # Percaya diri\n",
    "    else:\n",
    "        return 0  # Tidak percaya diri\n",
    "\n",
    "# Terapkan fungsi ke DataFrame\n",
    "split_df['confidence'] = split_df.apply(calculate_confidence, axis=1)\n",
    "\n",
    "# Tampilkan beberapa baris pertama\n",
    "print(split_df[['transcript_with_fillers', 'filler_words_count', 'meaningless_connectors_count', 'word_count', 'speak_duration', 'confidence']].head())\n"
   ]
  },
  {
   "cell_type": "code",
   "execution_count": 22,
   "metadata": {},
   "outputs": [
    {
     "name": "stdout",
     "output_type": "stream",
     "text": [
      "<class 'pandas.core.frame.DataFrame'>\n",
      "RangeIndex: 44516 entries, 0 to 44515\n",
      "Data columns (total 9 columns):\n",
      " #   Column                        Non-Null Count  Dtype  \n",
      "---  ------                        --------------  -----  \n",
      " 0   original_index                44516 non-null  int64  \n",
      " 1   transcript                    44516 non-null  object \n",
      " 2   transcript_with_fillers       44516 non-null  object \n",
      " 3   filler_words_count            44516 non-null  int64  \n",
      " 4   meaningless_connectors_count  44516 non-null  int64  \n",
      " 5   connector_ratio               44516 non-null  float64\n",
      " 6   word_count                    44516 non-null  int64  \n",
      " 7   speak_duration                44516 non-null  int64  \n",
      " 8   confidence                    44516 non-null  int64  \n",
      "dtypes: float64(1), int64(6), object(2)\n",
      "memory usage: 3.1+ MB\n"
     ]
    }
   ],
   "source": [
    "split_df.info()"
   ]
  },
  {
   "cell_type": "code",
   "execution_count": 23,
   "metadata": {},
   "outputs": [
    {
     "data": {
      "text/html": [
       "<div>\n",
       "<style scoped>\n",
       "    .dataframe tbody tr th:only-of-type {\n",
       "        vertical-align: middle;\n",
       "    }\n",
       "\n",
       "    .dataframe tbody tr th {\n",
       "        vertical-align: top;\n",
       "    }\n",
       "\n",
       "    .dataframe thead th {\n",
       "        text-align: right;\n",
       "    }\n",
       "</style>\n",
       "<table border=\"1\" class=\"dataframe\">\n",
       "  <thead>\n",
       "    <tr style=\"text-align: right;\">\n",
       "      <th></th>\n",
       "      <th>original_index</th>\n",
       "      <th>transcript</th>\n",
       "      <th>transcript_with_fillers</th>\n",
       "      <th>filler_words_count</th>\n",
       "      <th>meaningless_connectors_count</th>\n",
       "      <th>connector_ratio</th>\n",
       "      <th>word_count</th>\n",
       "      <th>speak_duration</th>\n",
       "      <th>confidence</th>\n",
       "    </tr>\n",
       "  </thead>\n",
       "  <tbody>\n",
       "    <tr>\n",
       "      <th>0</th>\n",
       "      <td>0</td>\n",
       "      <td>thank you so much chris and it s truly a great...</td>\n",
       "      <td>thank you so much chris and it s truly a great...</td>\n",
       "      <td>6</td>\n",
       "      <td>7</td>\n",
       "      <td>0.050000</td>\n",
       "      <td>140</td>\n",
       "      <td>63</td>\n",
       "      <td>1</td>\n",
       "    </tr>\n",
       "    <tr>\n",
       "      <th>1</th>\n",
       "      <td>0</td>\n",
       "      <td>from our home in nashville to a little farm we...</td>\n",
       "      <td>from our home in nashville to a little farm we...</td>\n",
       "      <td>6</td>\n",
       "      <td>7</td>\n",
       "      <td>0.045752</td>\n",
       "      <td>153</td>\n",
       "      <td>67</td>\n",
       "      <td>1</td>\n",
       "    </tr>\n",
       "    <tr>\n",
       "      <th>2</th>\n",
       "      <td>0</td>\n",
       "      <td>to us and she lowered her voice so much i had ...</td>\n",
       "      <td>to us and she lowered her voice so much i had ...</td>\n",
       "      <td>0</td>\n",
       "      <td>8</td>\n",
       "      <td>0.043716</td>\n",
       "      <td>183</td>\n",
       "      <td>90</td>\n",
       "      <td>1</td>\n",
       "    </tr>\n",
       "    <tr>\n",
       "      <th>3</th>\n",
       "      <td>0</td>\n",
       "      <td>refueling i woke up they opened the door i wen...</td>\n",
       "      <td>uh refueling i woke up they opened the door i ...</td>\n",
       "      <td>10</td>\n",
       "      <td>9</td>\n",
       "      <td>0.060811</td>\n",
       "      <td>148</td>\n",
       "      <td>82</td>\n",
       "      <td>0</td>\n",
       "    </tr>\n",
       "    <tr>\n",
       "      <th>4</th>\n",
       "      <td>0</td>\n",
       "      <td>president al gore announced in nigeria yesterd...</td>\n",
       "      <td>president al gore announced in nigeria yesterd...</td>\n",
       "      <td>3</td>\n",
       "      <td>10</td>\n",
       "      <td>0.044053</td>\n",
       "      <td>227</td>\n",
       "      <td>90</td>\n",
       "      <td>1</td>\n",
       "    </tr>\n",
       "  </tbody>\n",
       "</table>\n",
       "</div>"
      ],
      "text/plain": [
       "   original_index                                         transcript  \\\n",
       "0               0  thank you so much chris and it s truly a great...   \n",
       "1               0  from our home in nashville to a little farm we...   \n",
       "2               0  to us and she lowered her voice so much i had ...   \n",
       "3               0  refueling i woke up they opened the door i wen...   \n",
       "4               0  president al gore announced in nigeria yesterd...   \n",
       "\n",
       "                             transcript_with_fillers  filler_words_count  \\\n",
       "0  thank you so much chris and it s truly a great...                   6   \n",
       "1  from our home in nashville to a little farm we...                   6   \n",
       "2  to us and she lowered her voice so much i had ...                   0   \n",
       "3  uh refueling i woke up they opened the door i ...                  10   \n",
       "4  president al gore announced in nigeria yesterd...                   3   \n",
       "\n",
       "   meaningless_connectors_count  connector_ratio  word_count  speak_duration  \\\n",
       "0                             7         0.050000         140              63   \n",
       "1                             7         0.045752         153              67   \n",
       "2                             8         0.043716         183              90   \n",
       "3                             9         0.060811         148              82   \n",
       "4                            10         0.044053         227              90   \n",
       "\n",
       "   confidence  \n",
       "0           1  \n",
       "1           1  \n",
       "2           1  \n",
       "3           0  \n",
       "4           1  "
      ]
     },
     "execution_count": 23,
     "metadata": {},
     "output_type": "execute_result"
    }
   ],
   "source": [
    "split_df.head()"
   ]
  },
  {
   "cell_type": "code",
   "execution_count": 24,
   "metadata": {},
   "outputs": [],
   "source": [
    "split_df = split_df[['transcript_with_fillers','filler_words_count', 'meaningless_connectors_count', 'word_count', 'speak_duration', 'confidence']]"
   ]
  },
  {
   "cell_type": "code",
   "execution_count": 25,
   "metadata": {},
   "outputs": [
    {
     "data": {
      "text/html": [
       "<div>\n",
       "<style scoped>\n",
       "    .dataframe tbody tr th:only-of-type {\n",
       "        vertical-align: middle;\n",
       "    }\n",
       "\n",
       "    .dataframe tbody tr th {\n",
       "        vertical-align: top;\n",
       "    }\n",
       "\n",
       "    .dataframe thead th {\n",
       "        text-align: right;\n",
       "    }\n",
       "</style>\n",
       "<table border=\"1\" class=\"dataframe\">\n",
       "  <thead>\n",
       "    <tr style=\"text-align: right;\">\n",
       "      <th></th>\n",
       "      <th>transcript_with_fillers</th>\n",
       "      <th>filler_words_count</th>\n",
       "      <th>meaningless_connectors_count</th>\n",
       "      <th>word_count</th>\n",
       "      <th>speak_duration</th>\n",
       "      <th>confidence</th>\n",
       "    </tr>\n",
       "  </thead>\n",
       "  <tbody>\n",
       "    <tr>\n",
       "      <th>0</th>\n",
       "      <td>thank you so much chris and it s truly a great...</td>\n",
       "      <td>6</td>\n",
       "      <td>7</td>\n",
       "      <td>140</td>\n",
       "      <td>63</td>\n",
       "      <td>1</td>\n",
       "    </tr>\n",
       "    <tr>\n",
       "      <th>1</th>\n",
       "      <td>from our home in nashville to a little farm we...</td>\n",
       "      <td>6</td>\n",
       "      <td>7</td>\n",
       "      <td>153</td>\n",
       "      <td>67</td>\n",
       "      <td>1</td>\n",
       "    </tr>\n",
       "    <tr>\n",
       "      <th>2</th>\n",
       "      <td>to us and she lowered her voice so much i had ...</td>\n",
       "      <td>0</td>\n",
       "      <td>8</td>\n",
       "      <td>183</td>\n",
       "      <td>90</td>\n",
       "      <td>1</td>\n",
       "    </tr>\n",
       "    <tr>\n",
       "      <th>3</th>\n",
       "      <td>uh refueling i woke up they opened the door i ...</td>\n",
       "      <td>10</td>\n",
       "      <td>9</td>\n",
       "      <td>148</td>\n",
       "      <td>82</td>\n",
       "      <td>0</td>\n",
       "    </tr>\n",
       "    <tr>\n",
       "      <th>4</th>\n",
       "      <td>president al gore announced in nigeria yesterd...</td>\n",
       "      <td>3</td>\n",
       "      <td>10</td>\n",
       "      <td>227</td>\n",
       "      <td>90</td>\n",
       "      <td>1</td>\n",
       "    </tr>\n",
       "  </tbody>\n",
       "</table>\n",
       "</div>"
      ],
      "text/plain": [
       "                             transcript_with_fillers  filler_words_count  \\\n",
       "0  thank you so much chris and it s truly a great...                   6   \n",
       "1  from our home in nashville to a little farm we...                   6   \n",
       "2  to us and she lowered her voice so much i had ...                   0   \n",
       "3  uh refueling i woke up they opened the door i ...                  10   \n",
       "4  president al gore announced in nigeria yesterd...                   3   \n",
       "\n",
       "   meaningless_connectors_count  word_count  speak_duration  confidence  \n",
       "0                             7         140              63           1  \n",
       "1                             7         153              67           1  \n",
       "2                             8         183              90           1  \n",
       "3                             9         148              82           0  \n",
       "4                            10         227              90           1  "
      ]
     },
     "execution_count": 25,
     "metadata": {},
     "output_type": "execute_result"
    }
   ],
   "source": [
    "split_df.head()"
   ]
  },
  {
   "cell_type": "code",
   "execution_count": 27,
   "metadata": {},
   "outputs": [],
   "source": [
    "split_df.to_csv('./dataset/ted_talks_en_processed.csv', index=False)"
   ]
  }
 ],
 "metadata": {
  "kernelspec": {
   "display_name": "py-env-1-js1Xt8Gh",
   "language": "python",
   "name": "python3"
  },
  "language_info": {
   "codemirror_mode": {
    "name": "ipython",
    "version": 3
   },
   "file_extension": ".py",
   "mimetype": "text/x-python",
   "name": "python",
   "nbconvert_exporter": "python",
   "pygments_lexer": "ipython3",
   "version": "3.12.0"
  }
 },
 "nbformat": 4,
 "nbformat_minor": 2
}
